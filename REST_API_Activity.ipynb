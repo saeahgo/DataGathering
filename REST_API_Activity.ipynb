{
  "nbformat": 4,
  "nbformat_minor": 0,
  "metadata": {
    "colab": {
      "provenance": []
    },
    "kernelspec": {
      "name": "python3",
      "display_name": "Python 3"
    },
    "language_info": {
      "name": "python"
    }
  },
  "cells": [
    {
      "cell_type": "markdown",
      "source": [
        "https://realpython.com/python-api/\n",
        "\n",
        "https://www.geeksforgeeks.org/python-find-current-weather-of-any-city-using-openweathermap-api/"
      ],
      "metadata": {
        "id": "CSUcUmLDj9Xt"
      }
    },
    {
      "cell_type": "markdown",
      "source": [
        "Question A: Is it raining in Portland, OR right now?\n"
      ],
      "metadata": {
        "id": "Mfae9rsC4FFs"
      }
    },
    {
      "cell_type": "code",
      "execution_count": 1,
      "metadata": {
        "colab": {
          "base_uri": "https://localhost:8080/",
          "height": 54
        },
        "id": "0MP3934lgrHs",
        "outputId": "b77a1091-9f07-4349-bfeb-9c3eff0fa1bd"
      },
      "outputs": [
        {
          "output_type": "display_data",
          "data": {
            "text/plain": [
              "\"Portland's current weather (raining or not): Clouds\""
            ],
            "application/vnd.google.colaboratory.intrinsic+json": {
              "type": "string"
            }
          },
          "metadata": {}
        },
        {
          "output_type": "display_data",
          "data": {
            "text/plain": [
              "\"Portland's chance of rain within 3 days: Clouds\""
            ],
            "application/vnd.google.colaboratory.intrinsic+json": {
              "type": "string"
            }
          },
          "metadata": {}
        }
      ],
      "source": [
        "# import required modules\n",
        "import requests, json\n",
        "\n",
        "# Enter your API key here\n",
        "api_key = \"8a017d49b2fbfe023e23a2978194c4c2\"\n",
        "\n",
        "# Base_url variable to store url\n",
        "base_url = \"http://api.openweathermap.org/data/2.5/\"\n",
        "\n",
        "# Portland's latitude and longitude\n",
        "lat = str(45.5152)\n",
        "lon = str(122.6784)\n",
        "\n",
        "# Get the final urls\n",
        "current_url = base_url + \"weather?\" + \"lat=\" + lat + \"&lon=\" + lon + \"&appid=\" + api_key\n",
        "forecast_url = base_url + \"forecast?\" + \"lat=\" + lat + \"&lon=\" + lon + \"&appid=\" + api_key\n",
        "\n",
        "# Get the results through API calls\n",
        "current_result = requests.get(current_url).json()\n",
        "forecast_result = requests.get(forecast_url).json()\n",
        "\n",
        "# Display the result to answer the questions asked in the assignment\n",
        "display(\"Portland's current weather (raining or not): \" + str(current_result['weather'][0]['main']))\n",
        "display(\"Portland's chance of rain within 3 days: \" + str(forecast_result['list'][39]['weather'][0]['main']))"
      ]
    },
    {
      "cell_type": "markdown",
      "source": [
        "Question B: Is it forecasted to rain in Portland within the next 3 days?"
      ],
      "metadata": {
        "id": "axSOZa1rxAZu"
      }
    },
    {
      "cell_type": "code",
      "source": [
        "from datetime import datetime, timedelta\n",
        "\n",
        "will_rain = False\n",
        "now = datetime.utcnow()\n",
        "\n",
        "for forecast in forecast_result[\"list\"]:\n",
        "    forecast_time = datetime.strptime(forecast[\"dt_txt\"], \"%Y-%m-%d %H:%M:%S\")\n",
        "\n",
        "    # Check if forecast is within the next 3 days\n",
        "    if forecast_time - now <= timedelta(days=3):\n",
        "        weather_list = forecast[\"weather\"]\n",
        "        for weather in weather_list:\n",
        "            if \"rain\" in weather[\"main\"].lower() or \"rain\" in weather[\"description\"].lower():\n",
        "                will_rain = True\n",
        "                break\n",
        "        if will_rain:\n",
        "            break"
      ],
      "metadata": {
        "id": "Cfjs-YVg-kEZ"
      },
      "execution_count": 2,
      "outputs": []
    },
    {
      "cell_type": "code",
      "source": [
        "# Display the result to answer the questions asked in the assignment\n",
        "display(\"Portland's current weather (raining or not): \" + str(current_result['weather'][0]['main']))\n",
        "display(\"Portland's chance of rain within 3 days: \" + str(will_rain))"
      ],
      "metadata": {
        "colab": {
          "base_uri": "https://localhost:8080/",
          "height": 54
        },
        "id": "uNe00hWuZQk-",
        "outputId": "28032ebd-2ee2-4152-ed8b-c9be580bf9bf"
      },
      "execution_count": 3,
      "outputs": [
        {
          "output_type": "display_data",
          "data": {
            "text/plain": [
              "\"Portland's current weather (raining or not): Clouds\""
            ],
            "application/vnd.google.colaboratory.intrinsic+json": {
              "type": "string"
            }
          },
          "metadata": {}
        },
        {
          "output_type": "display_data",
          "data": {
            "text/plain": [
              "\"Portland's chance of rain within 3 days: True\""
            ],
            "application/vnd.google.colaboratory.intrinsic+json": {
              "type": "string"
            }
          },
          "metadata": {}
        }
      ]
    }
  ]
}